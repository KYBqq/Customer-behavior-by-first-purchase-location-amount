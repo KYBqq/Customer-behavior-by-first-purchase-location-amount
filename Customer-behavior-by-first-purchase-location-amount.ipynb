{
 "cells": [
  {
   "attachments": {},
   "cell_type": "markdown",
   "id": "978d50fe-7b7a-43f4-a551-f0e1c667af85",
   "metadata": {},
   "source": [
    "В таблице приведены покупки держателей карты. Описание параметров приведено на \n",
    "отдельном листе.\n",
    "\n",
    "```\n",
    "tran_dttm -\tдата транзакции\n",
    "tran_amt -\tсумма \n",
    "disbursment_dt - дата открытия счета\n",
    "customer_rk - уникальный id клиента\n",
    "limit -\tкредитный лимит по карте\n",
    "caption - магазин, где была совершена транзакция\n",
    "```\n",
    "\n",
    "\n",
    "```\n",
    "Необходимо:\n",
    "\n",
    "·         определить наличие зависимости поведения клиента от места/суммы первой покупки."
   ]
  },
  {
   "cell_type": "code",
   "execution_count": 33,
   "id": "e565fe65-3e63-46b4-8fd9-4b438ee9a9ab",
   "metadata": {},
   "outputs": [],
   "source": [
    "import pandas as pd\n",
    "import plotly_express as px"
   ]
  },
  {
   "cell_type": "code",
   "execution_count": 2,
   "id": "ff30426c-6bd9-44c9-bf89-d4153aa683f2",
   "metadata": {},
   "outputs": [],
   "source": [
    "df = pd.read_excel('Источник/Решение Задание 1. Тест_сегменты Часть 2.xlsx')"
   ]
  },
  {
   "cell_type": "code",
   "execution_count": 3,
   "id": "f70ef21b-3ed1-4f45-a6f3-c8f374da7968",
   "metadata": {},
   "outputs": [
    {
     "data": {
      "text/plain": [
       "TRAN_DTTM         datetime64[ns]\n",
       "TRAN_AMT                 float64\n",
       "DISBURSMENT_DT    datetime64[ns]\n",
       "CUSTOMER_RK                int64\n",
       "LIMIT                    float64\n",
       "caption                   object\n",
       "dtype: object"
      ]
     },
     "execution_count": 3,
     "metadata": {},
     "output_type": "execute_result"
    }
   ],
   "source": [
    "#Просмотр данных: \n",
    "df.dtypes"
   ]
  },
  {
   "cell_type": "code",
   "execution_count": 4,
   "id": "fb458dba-78ef-4296-a3a0-80872f8ca185",
   "metadata": {},
   "outputs": [
    {
     "data": {
      "text/html": [
       "<div>\n",
       "<style scoped>\n",
       "    .dataframe tbody tr th:only-of-type {\n",
       "        vertical-align: middle;\n",
       "    }\n",
       "\n",
       "    .dataframe tbody tr th {\n",
       "        vertical-align: top;\n",
       "    }\n",
       "\n",
       "    .dataframe thead th {\n",
       "        text-align: right;\n",
       "    }\n",
       "</style>\n",
       "<table border=\"1\" class=\"dataframe\">\n",
       "  <thead>\n",
       "    <tr style=\"text-align: right;\">\n",
       "      <th></th>\n",
       "      <th>TRAN_DTTM</th>\n",
       "      <th>TRAN_AMT</th>\n",
       "      <th>DISBURSMENT_DT</th>\n",
       "      <th>CUSTOMER_RK</th>\n",
       "      <th>LIMIT</th>\n",
       "      <th>caption</th>\n",
       "    </tr>\n",
       "  </thead>\n",
       "  <tbody>\n",
       "    <tr>\n",
       "      <th>0</th>\n",
       "      <td>2017-03-02 18:33:17</td>\n",
       "      <td>31.00</td>\n",
       "      <td>2017-03-01</td>\n",
       "      <td>14829027</td>\n",
       "      <td>15000.0</td>\n",
       "      <td>Пятерочка</td>\n",
       "    </tr>\n",
       "    <tr>\n",
       "      <th>1</th>\n",
       "      <td>2017-03-03 18:43:44</td>\n",
       "      <td>21.00</td>\n",
       "      <td>2017-03-01</td>\n",
       "      <td>14829027</td>\n",
       "      <td>15000.0</td>\n",
       "      <td>Пятерочка</td>\n",
       "    </tr>\n",
       "    <tr>\n",
       "      <th>2</th>\n",
       "      <td>2017-03-05 15:23:33</td>\n",
       "      <td>144.00</td>\n",
       "      <td>2017-03-03</td>\n",
       "      <td>4107662</td>\n",
       "      <td>15000.0</td>\n",
       "      <td>Успех</td>\n",
       "    </tr>\n",
       "    <tr>\n",
       "      <th>3</th>\n",
       "      <td>2017-03-07 11:17:26</td>\n",
       "      <td>1741.27</td>\n",
       "      <td>2017-03-03</td>\n",
       "      <td>4107662</td>\n",
       "      <td>15000.0</td>\n",
       "      <td>Новэкс</td>\n",
       "    </tr>\n",
       "    <tr>\n",
       "      <th>4</th>\n",
       "      <td>2017-03-18 13:04:13</td>\n",
       "      <td>6964.50</td>\n",
       "      <td>2017-03-06</td>\n",
       "      <td>39362150</td>\n",
       "      <td>0.0</td>\n",
       "      <td>Снежная Королева</td>\n",
       "    </tr>\n",
       "  </tbody>\n",
       "</table>\n",
       "</div>"
      ],
      "text/plain": [
       "            TRAN_DTTM  TRAN_AMT DISBURSMENT_DT  CUSTOMER_RK    LIMIT  \\\n",
       "0 2017-03-02 18:33:17     31.00     2017-03-01     14829027  15000.0   \n",
       "1 2017-03-03 18:43:44     21.00     2017-03-01     14829027  15000.0   \n",
       "2 2017-03-05 15:23:33    144.00     2017-03-03      4107662  15000.0   \n",
       "3 2017-03-07 11:17:26   1741.27     2017-03-03      4107662  15000.0   \n",
       "4 2017-03-18 13:04:13   6964.50     2017-03-06     39362150      0.0   \n",
       "\n",
       "            caption  \n",
       "0         Пятерочка  \n",
       "1         Пятерочка  \n",
       "2             Успех  \n",
       "3            Новэкс  \n",
       "4  Снежная Королева  "
      ]
     },
     "execution_count": 4,
     "metadata": {},
     "output_type": "execute_result"
    }
   ],
   "source": [
    "df.head()"
   ]
  },
  {
   "cell_type": "code",
   "execution_count": 39,
   "id": "ad9670b1-045a-43f2-8a27-b127c6e3f915",
   "metadata": {},
   "outputs": [
    {
     "name": "stdout",
     "output_type": "stream",
     "text": [
      "ЗАВИСИМОСТЬ ПОВЕДЕНИЯ КЛИЕНТА ОТ МЕСТА (ТОП-10):\n",
      "                                                 unique_customers  \\\n",
      "caption                                                             \n",
      "МАГНИТ                                                          1   \n",
      "Змеиногорское Районное Потребительское Общество                 1   \n",
      "Аптечная сеть Здоровье                                          1   \n",
      "Магазин Юлия                                                    1   \n",
      "Магазин Счастливый                                              1   \n",
      "Ярослав                                                         1   \n",
      "МАРИЯ                                                           1   \n",
      "КРЦ Империя                                                     1   \n",
      "Магазин \"РОЗТОР\"                                                1   \n",
      "Золотой ключик                                                  2   \n",
      "\n",
      "                                                 total_transactions  \\\n",
      "caption                                                               \n",
      "МАГНИТ                                                            3   \n",
      "Змеиногорское Районное Потребительское Общество                   2   \n",
      "Аптечная сеть Здоровье                                            2   \n",
      "Магазин Юлия                                                      2   \n",
      "Магазин Счастливый                                                2   \n",
      "Ярослав                                                           2   \n",
      "МАРИЯ                                                             2   \n",
      "КРЦ Империя                                                       2   \n",
      "Магазин \"РОЗТОР\"                                                  2   \n",
      "Золотой ключик                                                    4   \n",
      "\n",
      "                                                 total_amount  avg_amount  \\\n",
      "caption                                                                     \n",
      "МАГНИТ                                                2911.00      970.33   \n",
      "Змеиногорское Районное Потребительское Общество       5026.50     2513.25   \n",
      "Аптечная сеть Здоровье                                 424.00      212.00   \n",
      "Магазин Юлия                                           638.00      319.00   \n",
      "Магазин Счастливый                                    1845.33      922.66   \n",
      "Ярослав                                                487.35      243.68   \n",
      "МАРИЯ                                                 2710.00     1355.00   \n",
      "КРЦ Империя                                           1851.00      925.50   \n",
      "Магазин \"РОЗТОР\"                                      1184.71      592.36   \n",
      "Золотой ключик                                       12133.00     3033.25   \n",
      "\n",
      "                                                 transactions_per_customer  \n",
      "caption                                                                     \n",
      "МАГНИТ                                                                 3.0  \n",
      "Змеиногорское Районное Потребительское Общество                        2.0  \n",
      "Аптечная сеть Здоровье                                                 2.0  \n",
      "Магазин Юлия                                                           2.0  \n",
      "Магазин Счастливый                                                     2.0  \n",
      "Ярослав                                                                2.0  \n",
      "МАРИЯ                                                                  2.0  \n",
      "КРЦ Империя                                                            2.0  \n",
      "Магазин \"РОЗТОР\"                                                       2.0  \n",
      "Золотой ключик                                                         2.0  \n",
      "\n",
      "\n",
      "ЗАВИСИМОСТЬ ПОВЕДЕНИЯ КЛИЕНТА ОТ СУММЫ ПЕРВОЙ ПОКУПКИ:\n",
      "amount_category\n",
      "Низкая     1.091819\n",
      "Средняя    1.006849\n",
      "Высокая    1.000000\n",
      "Name: total_purchases, dtype: float64\n",
      "\n",
      "Корреляция сумма-покупки: -0.096\n"
     ]
    },
    {
     "name": "stderr",
     "output_type": "stream",
     "text": [
      "C:\\Users\\Работа\\AppData\\Local\\Temp\\ipykernel_9704\\1694669043.py:29: FutureWarning:\n",
      "\n",
      "The default of observed=False is deprecated and will be changed to True in a future version of pandas. Pass observed=False to retain current behavior or observed=True to adopt the future default and silence this warning.\n",
      "\n"
     ]
    }
   ],
   "source": [
    "# 1. ЗАВИСИМОСТЬ ПОВЕДЕНИЯ КЛИЕНТА ОТ МЕСТА\n",
    "# Считаем активность клиентов по каждому месту\n",
    "place_activity = df.groupby('caption').agg({\n",
    "    'CUSTOMER_RK': 'nunique',  # количество уникальных клиентов\n",
    "    'TRAN_AMT': ['count', 'sum', 'mean']  # количество, сумма, средний чек\n",
    "}).round(2)\n",
    "\n",
    "place_activity.columns = ['unique_customers', 'total_transactions', 'total_amount', 'avg_amount']\n",
    "place_activity['transactions_per_customer'] = (place_activity['total_transactions'] / place_activity['unique_customers']).round(2)\n",
    "\n",
    "print(\"ЗАВИСИМОСТЬ ПОВЕДЕНИЯ КЛИЕНТА ОТ МЕСТА (ТОП-10):\")\n",
    "print(place_activity.sort_values('transactions_per_customer', ascending=False).head(10))\n",
    "\n",
    "# 2. ЗАВИСИМОСТЬ ПОВЕДЕНИЯ КЛИЕНТА ОТ СУММЫ ПЕРВОЙ ПОКУПКИ\n",
    "# Находим первую покупку каждого клиента\n",
    "first_purchases = df.loc[df.groupby('CUSTOMER_RK')['TRAN_DTTM'].idxmin()]\n",
    "first_purchases = first_purchases[['CUSTOMER_RK', 'TRAN_AMT']].rename(columns={'TRAN_AMT': 'first_amount'})\n",
    "\n",
    "# Считаем общее количество покупок каждого клиента\n",
    "purchase_counts = df.groupby('CUSTOMER_RK').size().rename('total_purchases')\n",
    "\n",
    "# Объединяем данные\n",
    "analysis_df = first_purchases.merge(purchase_counts, on='CUSTOMER_RK')\n",
    "\n",
    "# Категории по сумме первой покупки\n",
    "analysis_df['amount_category'] = pd.cut(analysis_df['first_amount'], bins=3, labels=['Низкая', 'Средняя', 'Высокая'])\n",
    "\n",
    "print(\"\\n\\nЗАВИСИМОСТЬ ПОВЕДЕНИЯ КЛИЕНТА ОТ СУММЫ ПЕРВОЙ ПОКУПКИ:\")\n",
    "print(analysis_df.groupby('amount_category')['total_purchases'].mean())\n",
    "\n",
    "# Корреляция\n",
    "print(f\"\\nКорреляция сумма-покупки: {analysis_df['first_amount'].corr(analysis_df['total_purchases']):.3f}\")"
   ]
  },
  {
   "cell_type": "code",
   "execution_count": 40,
   "id": "a2ef0ed3-c26d-4d51-8ab6-f560d19e6b34",
   "metadata": {},
   "outputs": [
    {
     "data": {
      "application/vnd.plotly.v1+json": {
       "config": {
        "plotlyServerURL": "https://plot.ly"
       },
       "data": [
        {
         "hovertemplate": "Место покупки=%{x}<br>Транзакций на клиента=%{y}<extra></extra>",
         "legendgroup": "",
         "marker": {
          "color": "#636efa",
          "pattern": {
           "shape": ""
          }
         },
         "name": "",
         "orientation": "v",
         "showlegend": false,
         "textposition": "auto",
         "type": "bar",
         "x": [
          "МАГНИТ",
          "Змеиногорское Районное Потребительское Общество",
          "Аптечная сеть Здоровье",
          "Магазин Юлия",
          "Магазин Счастливый",
          "Ярослав",
          "МАРИЯ",
          "КРЦ Империя",
          "Магазин \"РОЗТОР\"",
          "Золотой ключик"
         ],
         "xaxis": "x",
         "y": {
          "bdata": "AAAAAAAACEAAAAAAAAAAQAAAAAAAAABAAAAAAAAAAEAAAAAAAAAAQAAAAAAAAABAAAAAAAAAAEAAAAAAAAAAQAAAAAAAAABAAAAAAAAAAEA=",
          "dtype": "f8"
         },
         "yaxis": "y"
        }
       ],
       "layout": {
        "barmode": "relative",
        "legend": {
         "tracegroupgap": 0
        },
        "template": {
         "data": {
          "bar": [
           {
            "error_x": {
             "color": "#2a3f5f"
            },
            "error_y": {
             "color": "#2a3f5f"
            },
            "marker": {
             "line": {
              "color": "#E5ECF6",
              "width": 0.5
             },
             "pattern": {
              "fillmode": "overlay",
              "size": 10,
              "solidity": 0.2
             }
            },
            "type": "bar"
           }
          ],
          "barpolar": [
           {
            "marker": {
             "line": {
              "color": "#E5ECF6",
              "width": 0.5
             },
             "pattern": {
              "fillmode": "overlay",
              "size": 10,
              "solidity": 0.2
             }
            },
            "type": "barpolar"
           }
          ],
          "carpet": [
           {
            "aaxis": {
             "endlinecolor": "#2a3f5f",
             "gridcolor": "white",
             "linecolor": "white",
             "minorgridcolor": "white",
             "startlinecolor": "#2a3f5f"
            },
            "baxis": {
             "endlinecolor": "#2a3f5f",
             "gridcolor": "white",
             "linecolor": "white",
             "minorgridcolor": "white",
             "startlinecolor": "#2a3f5f"
            },
            "type": "carpet"
           }
          ],
          "choropleth": [
           {
            "colorbar": {
             "outlinewidth": 0,
             "ticks": ""
            },
            "type": "choropleth"
           }
          ],
          "contour": [
           {
            "colorbar": {
             "outlinewidth": 0,
             "ticks": ""
            },
            "colorscale": [
             [
              0,
              "#0d0887"
             ],
             [
              0.1111111111111111,
              "#46039f"
             ],
             [
              0.2222222222222222,
              "#7201a8"
             ],
             [
              0.3333333333333333,
              "#9c179e"
             ],
             [
              0.4444444444444444,
              "#bd3786"
             ],
             [
              0.5555555555555556,
              "#d8576b"
             ],
             [
              0.6666666666666666,
              "#ed7953"
             ],
             [
              0.7777777777777778,
              "#fb9f3a"
             ],
             [
              0.8888888888888888,
              "#fdca26"
             ],
             [
              1,
              "#f0f921"
             ]
            ],
            "type": "contour"
           }
          ],
          "contourcarpet": [
           {
            "colorbar": {
             "outlinewidth": 0,
             "ticks": ""
            },
            "type": "contourcarpet"
           }
          ],
          "heatmap": [
           {
            "colorbar": {
             "outlinewidth": 0,
             "ticks": ""
            },
            "colorscale": [
             [
              0,
              "#0d0887"
             ],
             [
              0.1111111111111111,
              "#46039f"
             ],
             [
              0.2222222222222222,
              "#7201a8"
             ],
             [
              0.3333333333333333,
              "#9c179e"
             ],
             [
              0.4444444444444444,
              "#bd3786"
             ],
             [
              0.5555555555555556,
              "#d8576b"
             ],
             [
              0.6666666666666666,
              "#ed7953"
             ],
             [
              0.7777777777777778,
              "#fb9f3a"
             ],
             [
              0.8888888888888888,
              "#fdca26"
             ],
             [
              1,
              "#f0f921"
             ]
            ],
            "type": "heatmap"
           }
          ],
          "histogram": [
           {
            "marker": {
             "pattern": {
              "fillmode": "overlay",
              "size": 10,
              "solidity": 0.2
             }
            },
            "type": "histogram"
           }
          ],
          "histogram2d": [
           {
            "colorbar": {
             "outlinewidth": 0,
             "ticks": ""
            },
            "colorscale": [
             [
              0,
              "#0d0887"
             ],
             [
              0.1111111111111111,
              "#46039f"
             ],
             [
              0.2222222222222222,
              "#7201a8"
             ],
             [
              0.3333333333333333,
              "#9c179e"
             ],
             [
              0.4444444444444444,
              "#bd3786"
             ],
             [
              0.5555555555555556,
              "#d8576b"
             ],
             [
              0.6666666666666666,
              "#ed7953"
             ],
             [
              0.7777777777777778,
              "#fb9f3a"
             ],
             [
              0.8888888888888888,
              "#fdca26"
             ],
             [
              1,
              "#f0f921"
             ]
            ],
            "type": "histogram2d"
           }
          ],
          "histogram2dcontour": [
           {
            "colorbar": {
             "outlinewidth": 0,
             "ticks": ""
            },
            "colorscale": [
             [
              0,
              "#0d0887"
             ],
             [
              0.1111111111111111,
              "#46039f"
             ],
             [
              0.2222222222222222,
              "#7201a8"
             ],
             [
              0.3333333333333333,
              "#9c179e"
             ],
             [
              0.4444444444444444,
              "#bd3786"
             ],
             [
              0.5555555555555556,
              "#d8576b"
             ],
             [
              0.6666666666666666,
              "#ed7953"
             ],
             [
              0.7777777777777778,
              "#fb9f3a"
             ],
             [
              0.8888888888888888,
              "#fdca26"
             ],
             [
              1,
              "#f0f921"
             ]
            ],
            "type": "histogram2dcontour"
           }
          ],
          "mesh3d": [
           {
            "colorbar": {
             "outlinewidth": 0,
             "ticks": ""
            },
            "type": "mesh3d"
           }
          ],
          "parcoords": [
           {
            "line": {
             "colorbar": {
              "outlinewidth": 0,
              "ticks": ""
             }
            },
            "type": "parcoords"
           }
          ],
          "pie": [
           {
            "automargin": true,
            "type": "pie"
           }
          ],
          "scatter": [
           {
            "fillpattern": {
             "fillmode": "overlay",
             "size": 10,
             "solidity": 0.2
            },
            "type": "scatter"
           }
          ],
          "scatter3d": [
           {
            "line": {
             "colorbar": {
              "outlinewidth": 0,
              "ticks": ""
             }
            },
            "marker": {
             "colorbar": {
              "outlinewidth": 0,
              "ticks": ""
             }
            },
            "type": "scatter3d"
           }
          ],
          "scattercarpet": [
           {
            "marker": {
             "colorbar": {
              "outlinewidth": 0,
              "ticks": ""
             }
            },
            "type": "scattercarpet"
           }
          ],
          "scattergeo": [
           {
            "marker": {
             "colorbar": {
              "outlinewidth": 0,
              "ticks": ""
             }
            },
            "type": "scattergeo"
           }
          ],
          "scattergl": [
           {
            "marker": {
             "colorbar": {
              "outlinewidth": 0,
              "ticks": ""
             }
            },
            "type": "scattergl"
           }
          ],
          "scattermap": [
           {
            "marker": {
             "colorbar": {
              "outlinewidth": 0,
              "ticks": ""
             }
            },
            "type": "scattermap"
           }
          ],
          "scattermapbox": [
           {
            "marker": {
             "colorbar": {
              "outlinewidth": 0,
              "ticks": ""
             }
            },
            "type": "scattermapbox"
           }
          ],
          "scatterpolar": [
           {
            "marker": {
             "colorbar": {
              "outlinewidth": 0,
              "ticks": ""
             }
            },
            "type": "scatterpolar"
           }
          ],
          "scatterpolargl": [
           {
            "marker": {
             "colorbar": {
              "outlinewidth": 0,
              "ticks": ""
             }
            },
            "type": "scatterpolargl"
           }
          ],
          "scatterternary": [
           {
            "marker": {
             "colorbar": {
              "outlinewidth": 0,
              "ticks": ""
             }
            },
            "type": "scatterternary"
           }
          ],
          "surface": [
           {
            "colorbar": {
             "outlinewidth": 0,
             "ticks": ""
            },
            "colorscale": [
             [
              0,
              "#0d0887"
             ],
             [
              0.1111111111111111,
              "#46039f"
             ],
             [
              0.2222222222222222,
              "#7201a8"
             ],
             [
              0.3333333333333333,
              "#9c179e"
             ],
             [
              0.4444444444444444,
              "#bd3786"
             ],
             [
              0.5555555555555556,
              "#d8576b"
             ],
             [
              0.6666666666666666,
              "#ed7953"
             ],
             [
              0.7777777777777778,
              "#fb9f3a"
             ],
             [
              0.8888888888888888,
              "#fdca26"
             ],
             [
              1,
              "#f0f921"
             ]
            ],
            "type": "surface"
           }
          ],
          "table": [
           {
            "cells": {
             "fill": {
              "color": "#EBF0F8"
             },
             "line": {
              "color": "white"
             }
            },
            "header": {
             "fill": {
              "color": "#C8D4E3"
             },
             "line": {
              "color": "white"
             }
            },
            "type": "table"
           }
          ]
         },
         "layout": {
          "annotationdefaults": {
           "arrowcolor": "#2a3f5f",
           "arrowhead": 0,
           "arrowwidth": 1
          },
          "autotypenumbers": "strict",
          "coloraxis": {
           "colorbar": {
            "outlinewidth": 0,
            "ticks": ""
           }
          },
          "colorscale": {
           "diverging": [
            [
             0,
             "#8e0152"
            ],
            [
             0.1,
             "#c51b7d"
            ],
            [
             0.2,
             "#de77ae"
            ],
            [
             0.3,
             "#f1b6da"
            ],
            [
             0.4,
             "#fde0ef"
            ],
            [
             0.5,
             "#f7f7f7"
            ],
            [
             0.6,
             "#e6f5d0"
            ],
            [
             0.7,
             "#b8e186"
            ],
            [
             0.8,
             "#7fbc41"
            ],
            [
             0.9,
             "#4d9221"
            ],
            [
             1,
             "#276419"
            ]
           ],
           "sequential": [
            [
             0,
             "#0d0887"
            ],
            [
             0.1111111111111111,
             "#46039f"
            ],
            [
             0.2222222222222222,
             "#7201a8"
            ],
            [
             0.3333333333333333,
             "#9c179e"
            ],
            [
             0.4444444444444444,
             "#bd3786"
            ],
            [
             0.5555555555555556,
             "#d8576b"
            ],
            [
             0.6666666666666666,
             "#ed7953"
            ],
            [
             0.7777777777777778,
             "#fb9f3a"
            ],
            [
             0.8888888888888888,
             "#fdca26"
            ],
            [
             1,
             "#f0f921"
            ]
           ],
           "sequentialminus": [
            [
             0,
             "#0d0887"
            ],
            [
             0.1111111111111111,
             "#46039f"
            ],
            [
             0.2222222222222222,
             "#7201a8"
            ],
            [
             0.3333333333333333,
             "#9c179e"
            ],
            [
             0.4444444444444444,
             "#bd3786"
            ],
            [
             0.5555555555555556,
             "#d8576b"
            ],
            [
             0.6666666666666666,
             "#ed7953"
            ],
            [
             0.7777777777777778,
             "#fb9f3a"
            ],
            [
             0.8888888888888888,
             "#fdca26"
            ],
            [
             1,
             "#f0f921"
            ]
           ]
          },
          "colorway": [
           "#636efa",
           "#EF553B",
           "#00cc96",
           "#ab63fa",
           "#FFA15A",
           "#19d3f3",
           "#FF6692",
           "#B6E880",
           "#FF97FF",
           "#FECB52"
          ],
          "font": {
           "color": "#2a3f5f"
          },
          "geo": {
           "bgcolor": "white",
           "lakecolor": "white",
           "landcolor": "#E5ECF6",
           "showlakes": true,
           "showland": true,
           "subunitcolor": "white"
          },
          "hoverlabel": {
           "align": "left"
          },
          "hovermode": "closest",
          "mapbox": {
           "style": "light"
          },
          "paper_bgcolor": "white",
          "plot_bgcolor": "#E5ECF6",
          "polar": {
           "angularaxis": {
            "gridcolor": "white",
            "linecolor": "white",
            "ticks": ""
           },
           "bgcolor": "#E5ECF6",
           "radialaxis": {
            "gridcolor": "white",
            "linecolor": "white",
            "ticks": ""
           }
          },
          "scene": {
           "xaxis": {
            "backgroundcolor": "#E5ECF6",
            "gridcolor": "white",
            "gridwidth": 2,
            "linecolor": "white",
            "showbackground": true,
            "ticks": "",
            "zerolinecolor": "white"
           },
           "yaxis": {
            "backgroundcolor": "#E5ECF6",
            "gridcolor": "white",
            "gridwidth": 2,
            "linecolor": "white",
            "showbackground": true,
            "ticks": "",
            "zerolinecolor": "white"
           },
           "zaxis": {
            "backgroundcolor": "#E5ECF6",
            "gridcolor": "white",
            "gridwidth": 2,
            "linecolor": "white",
            "showbackground": true,
            "ticks": "",
            "zerolinecolor": "white"
           }
          },
          "shapedefaults": {
           "line": {
            "color": "#2a3f5f"
           }
          },
          "ternary": {
           "aaxis": {
            "gridcolor": "white",
            "linecolor": "white",
            "ticks": ""
           },
           "baxis": {
            "gridcolor": "white",
            "linecolor": "white",
            "ticks": ""
           },
           "bgcolor": "#E5ECF6",
           "caxis": {
            "gridcolor": "white",
            "linecolor": "white",
            "ticks": ""
           }
          },
          "title": {
           "x": 0.05
          },
          "xaxis": {
           "automargin": true,
           "gridcolor": "white",
           "linecolor": "white",
           "ticks": "",
           "title": {
            "standoff": 15
           },
           "zerolinecolor": "white",
           "zerolinewidth": 2
          },
          "yaxis": {
           "automargin": true,
           "gridcolor": "white",
           "linecolor": "white",
           "ticks": "",
           "title": {
            "standoff": 15
           },
           "zerolinecolor": "white",
           "zerolinewidth": 2
          }
         }
        },
        "title": {
         "text": "ТОП-10: Среднее количество транзакций на клиента по местам"
        },
        "xaxis": {
         "anchor": "y",
         "domain": [
          0,
          1
         ],
         "tickangle": 45,
         "title": {
          "text": "Место покупки"
         }
        },
        "yaxis": {
         "anchor": "x",
         "domain": [
          0,
          1
         ],
         "title": {
          "text": "Транзакций на клиента"
         }
        }
       }
      },
      "image/png": "[encoded data removed]"
     },
     "metadata": {},
     "output_type": "display_data"
    },
    {
     "name": "stderr",
     "output_type": "stream",
     "text": [
      "C:\\Users\\Работа\\AppData\\Local\\Temp\\ipykernel_9704\\1556688228.py:11: FutureWarning:\n",
      "\n",
      "The default of observed=False is deprecated and will be changed to True in a future version of pandas. Pass observed=False to retain current behavior or observed=True to adopt the future default and silence this warning.\n",
      "\n"
     ]
    },
    {
     "data": {
      "application/vnd.plotly.v1+json": {
       "config": {
        "plotlyServerURL": "https://plot.ly"
       },
       "data": [
        {
         "hovertemplate": "Категория суммы=%{x}<br>Среднее количество покупок=%{y}<extra></extra>",
         "legendgroup": "",
         "marker": {
          "color": "#636efa",
          "pattern": {
           "shape": ""
          }
         },
         "name": "",
         "orientation": "v",
         "showlegend": false,
         "textposition": "auto",
         "type": "bar",
         "x": [
          "Низкая",
          "Средняя",
          "Высокая"
         ],
         "xaxis": "x",
         "y": {
          "bdata": "gX/VuBd48T/BgQMHDhzwPwAAAAAAAPA/",
          "dtype": "f8"
         },
         "yaxis": "y"
        }
       ],
       "layout": {
        "barmode": "relative",
        "legend": {
         "tracegroupgap": 0
        },
        "template": {
         "data": {
          "bar": [
           {
            "error_x": {
             "color": "#2a3f5f"
            },
            "error_y": {
             "color": "#2a3f5f"
            },
            "marker": {
             "line": {
              "color": "#E5ECF6",
              "width": 0.5
             },
             "pattern": {
              "fillmode": "overlay",
              "size": 10,
              "solidity": 0.2
             }
            },
            "type": "bar"
           }
          ],
          "barpolar": [
           {
            "marker": {
             "line": {
              "color": "#E5ECF6",
              "width": 0.5
             },
             "pattern": {
              "fillmode": "overlay",
              "size": 10,
              "solidity": 0.2
             }
            },
            "type": "barpolar"
           }
          ],
          "carpet": [
           {
            "aaxis": {
             "endlinecolor": "#2a3f5f",
             "gridcolor": "white",
             "linecolor": "white",
             "minorgridcolor": "white",
             "startlinecolor": "#2a3f5f"
            },
            "baxis": {
             "endlinecolor": "#2a3f5f",
             "gridcolor": "white",
             "linecolor": "white",
             "minorgridcolor": "white",
             "startlinecolor": "#2a3f5f"
            },
            "type": "carpet"
           }
          ],
          "choropleth": [
           {
            "colorbar": {
             "outlinewidth": 0,
             "ticks": ""
            },
            "type": "choropleth"
           }
          ],
          "contour": [
           {
            "colorbar": {
             "outlinewidth": 0,
             "ticks": ""
            },
            "colorscale": [
             [
              0,
              "#0d0887"
             ],
             [
              0.1111111111111111,
              "#46039f"
             ],
             [
              0.2222222222222222,
              "#7201a8"
             ],
             [
              0.3333333333333333,
              "#9c179e"
             ],
             [
              0.4444444444444444,
              "#bd3786"
             ],
             [
              0.5555555555555556,
              "#d8576b"
             ],
             [
              0.6666666666666666,
              "#ed7953"
             ],
             [
              0.7777777777777778,
              "#fb9f3a"
             ],
             [
              0.8888888888888888,
              "#fdca26"
             ],
             [
              1,
              "#f0f921"
             ]
            ],
            "type": "contour"
           }
          ],
          "contourcarpet": [
           {
            "colorbar": {
             "outlinewidth": 0,
             "ticks": ""
            },
            "type": "contourcarpet"
           }
          ],
          "heatmap": [
           {
            "colorbar": {
             "outlinewidth": 0,
             "ticks": ""
            },
            "colorscale": [
             [
              0,
              "#0d0887"
             ],
             [
              0.1111111111111111,
              "#46039f"
             ],
             [
              0.2222222222222222,
              "#7201a8"
             ],
             [
              0.3333333333333333,
              "#9c179e"
             ],
             [
              0.4444444444444444,
              "#bd3786"
             ],
             [
              0.5555555555555556,
              "#d8576b"
             ],
             [
              0.6666666666666666,
              "#ed7953"
             ],
             [
              0.7777777777777778,
              "#fb9f3a"
             ],
             [
              0.8888888888888888,
              "#fdca26"
             ],
             [
              1,
              "#f0f921"
             ]
            ],
            "type": "heatmap"
           }
          ],
          "histogram": [
           {
            "marker": {
             "pattern": {
              "fillmode": "overlay",
              "size": 10,
              "solidity": 0.2
             }
            },
            "type": "histogram"
           }
          ],
          "histogram2d": [
           {
            "colorbar": {
             "outlinewidth": 0,
             "ticks": ""
            },
            "colorscale": [
             [
              0,
              "#0d0887"
             ],
             [
              0.1111111111111111,
              "#46039f"
             ],
             [
              0.2222222222222222,
              "#7201a8"
             ],
             [
              0.3333333333333333,
              "#9c179e"
             ],
             [
              0.4444444444444444,
              "#bd3786"
             ],
             [
              0.5555555555555556,
              "#d8576b"
             ],
             [
              0.6666666666666666,
              "#ed7953"
             ],
             [
              0.7777777777777778,
              "#fb9f3a"
             ],
             [
              0.8888888888888888,
              "#fdca26"
             ],
             [
              1,
              "#f0f921"
             ]
            ],
            "type": "histogram2d"
           }
          ],
          "histogram2dcontour": [
           {
            "colorbar": {
             "outlinewidth": 0,
             "ticks": ""
            },
            "colorscale": [
             [
              0,
              "#0d0887"
             ],
             [
              0.1111111111111111,
              "#46039f"
             ],
             [
              0.2222222222222222,
              "#7201a8"
             ],
             [
              0.3333333333333333,
              "#9c179e"
             ],
             [
              0.4444444444444444,
              "#bd3786"
             ],
             [
              0.5555555555555556,
              "#d8576b"
             ],
             [
              0.6666666666666666,
              "#ed7953"
             ],
             [
              0.7777777777777778,
              "#fb9f3a"
             ],
             [
              0.8888888888888888,
              "#fdca26"
             ],
             [
              1,
              "#f0f921"
             ]
            ],
            "type": "histogram2dcontour"
           }
          ],
          "mesh3d": [
           {
            "colorbar": {
             "outlinewidth": 0,
             "ticks": ""
            },
            "type": "mesh3d"
           }
          ],
          "parcoords": [
           {
            "line": {
             "colorbar": {
              "outlinewidth": 0,
              "ticks": ""
             }
            },
            "type": "parcoords"
           }
          ],
          "pie": [
           {
            "automargin": true,
            "type": "pie"
           }
          ],
          "scatter": [
           {
            "fillpattern": {
             "fillmode": "overlay",
             "size": 10,
             "solidity": 0.2
            },
            "type": "scatter"
           }
          ],
          "scatter3d": [
           {
            "line": {
             "colorbar": {
              "outlinewidth": 0,
              "ticks": ""
             }
            },
            "marker": {
             "colorbar": {
              "outlinewidth": 0,
              "ticks": ""
             }
            },
            "type": "scatter3d"
           }
          ],
          "scattercarpet": [
           {
            "marker": {
             "colorbar": {
              "outlinewidth": 0,
              "ticks": ""
             }
            },
            "type": "scattercarpet"
           }
          ],
          "scattergeo": [
           {
            "marker": {
             "colorbar": {
              "outlinewidth": 0,
              "ticks": ""
             }
            },
            "type": "scattergeo"
           }
          ],
          "scattergl": [
           {
            "marker": {
             "colorbar": {
              "outlinewidth": 0,
              "ticks": ""
             }
            },
            "type": "scattergl"
           }
          ],
          "scattermap": [
           {
            "marker": {
             "colorbar": {
              "outlinewidth": 0,
              "ticks": ""
             }
            },
            "type": "scattermap"
           }
          ],
          "scattermapbox": [
           {
            "marker": {
             "colorbar": {
              "outlinewidth": 0,
              "ticks": ""
             }
            },
            "type": "scattermapbox"
           }
          ],
          "scatterpolar": [
           {
            "marker": {
             "colorbar": {
              "outlinewidth": 0,
              "ticks": ""
             }
            },
            "type": "scatterpolar"
           }
          ],
          "scatterpolargl": [
           {
            "marker": {
             "colorbar": {
              "outlinewidth": 0,
              "ticks": ""
             }
            },
            "type": "scatterpolargl"
           }
          ],
          "scatterternary": [
           {
            "marker": {
             "colorbar": {
              "outlinewidth": 0,
              "ticks": ""
             }
            },
            "type": "scatterternary"
           }
          ],
          "surface": [
           {
            "colorbar": {
             "outlinewidth": 0,
             "ticks": ""
            },
            "colorscale": [
             [
              0,
              "#0d0887"
             ],
             [
              0.1111111111111111,
              "#46039f"
             ],
             [
              0.2222222222222222,
              "#7201a8"
             ],
             [
              0.3333333333333333,
              "#9c179e"
             ],
             [
              0.4444444444444444,
              "#bd3786"
             ],
             [
              0.5555555555555556,
              "#d8576b"
             ],
             [
              0.6666666666666666,
              "#ed7953"
             ],
             [
              0.7777777777777778,
              "#fb9f3a"
             ],
             [
              0.8888888888888888,
              "#fdca26"
             ],
             [
              1,
              "#f0f921"
             ]
            ],
            "type": "surface"
           }
          ],
          "table": [
           {
            "cells": {
             "fill": {
              "color": "#EBF0F8"
             },
             "line": {
              "color": "white"
             }
            },
            "header": {
             "fill": {
              "color": "#C8D4E3"
             },
             "line": {
              "color": "white"
             }
            },
            "type": "table"
           }
          ]
         },
         "layout": {
          "annotationdefaults": {
           "arrowcolor": "#2a3f5f",
           "arrowhead": 0,
           "arrowwidth": 1
          },
          "autotypenumbers": "strict",
          "coloraxis": {
           "colorbar": {
            "outlinewidth": 0,
            "ticks": ""
           }
          },
          "colorscale": {
           "diverging": [
            [
             0,
             "#8e0152"
            ],
            [
             0.1,
             "#c51b7d"
            ],
            [
             0.2,
             "#de77ae"
            ],
            [
             0.3,
             "#f1b6da"
            ],
            [
             0.4,
             "#fde0ef"
            ],
            [
             0.5,
             "#f7f7f7"
            ],
            [
             0.6,
             "#e6f5d0"
            ],
            [
             0.7,
             "#b8e186"
            ],
            [
             0.8,
             "#7fbc41"
            ],
            [
             0.9,
             "#4d9221"
            ],
            [
             1,
             "#276419"
            ]
           ],
           "sequential": [
            [
             0,
             "#0d0887"
            ],
            [
             0.1111111111111111,
             "#46039f"
            ],
            [
             0.2222222222222222,
             "#7201a8"
            ],
            [
             0.3333333333333333,
             "#9c179e"
            ],
            [
             0.4444444444444444,
             "#bd3786"
            ],
            [
             0.5555555555555556,
             "#d8576b"
            ],
            [
             0.6666666666666666,
             "#ed7953"
            ],
            [
             0.7777777777777778,
             "#fb9f3a"
            ],
            [
             0.8888888888888888,
             "#fdca26"
            ],
            [
             1,
             "#f0f921"
            ]
           ],
           "sequentialminus": [
            [
             0,
             "#0d0887"
            ],
            [
             0.1111111111111111,
             "#46039f"
            ],
            [
             0.2222222222222222,
             "#7201a8"
            ],
            [
             0.3333333333333333,
             "#9c179e"
            ],
            [
             0.4444444444444444,
             "#bd3786"
            ],
            [
             0.5555555555555556,
             "#d8576b"
            ],
            [
             0.6666666666666666,
             "#ed7953"
            ],
            [
             0.7777777777777778,
             "#fb9f3a"
            ],
            [
             0.8888888888888888,
             "#fdca26"
            ],
            [
             1,
             "#f0f921"
            ]
           ]
          },
          "colorway": [
           "#636efa",
           "#EF553B",
           "#00cc96",
           "#ab63fa",
           "#FFA15A",
           "#19d3f3",
           "#FF6692",
           "#B6E880",
           "#FF97FF",
           "#FECB52"
          ],
          "font": {
           "color": "#2a3f5f"
          },
          "geo": {
           "bgcolor": "white",
           "lakecolor": "white",
           "landcolor": "#E5ECF6",
           "showlakes": true,
           "showland": true,
           "subunitcolor": "white"
          },
          "hoverlabel": {
           "align": "left"
          },
          "hovermode": "closest",
          "mapbox": {
           "style": "light"
          },
          "paper_bgcolor": "white",
          "plot_bgcolor": "#E5ECF6",
          "polar": {
           "angularaxis": {
            "gridcolor": "white",
            "linecolor": "white",
            "ticks": ""
           },
           "bgcolor": "#E5ECF6",
           "radialaxis": {
            "gridcolor": "white",
            "linecolor": "white",
            "ticks": ""
           }
          },
          "scene": {
           "xaxis": {
            "backgroundcolor": "#E5ECF6",
            "gridcolor": "white",
            "gridwidth": 2,
            "linecolor": "white",
            "showbackground": true,
            "ticks": "",
            "zerolinecolor": "white"
           },
           "yaxis": {
            "backgroundcolor": "#E5ECF6",
            "gridcolor": "white",
            "gridwidth": 2,
            "linecolor": "white",
            "showbackground": true,
            "ticks": "",
            "zerolinecolor": "white"
           },
           "zaxis": {
            "backgroundcolor": "#E5ECF6",
            "gridcolor": "white",
            "gridwidth": 2,
            "linecolor": "white",
            "showbackground": true,
            "ticks": "",
            "zerolinecolor": "white"
           }
          },
          "shapedefaults": {
           "line": {
            "color": "#2a3f5f"
           }
          },
          "ternary": {
           "aaxis": {
            "gridcolor": "white",
            "linecolor": "white",
            "ticks": ""
           },
           "baxis": {
            "gridcolor": "white",
            "linecolor": "white",
            "ticks": ""
           },
           "bgcolor": "#E5ECF6",
           "caxis": {
            "gridcolor": "white",
            "linecolor": "white",
            "ticks": ""
           }
          },
          "title": {
           "x": 0.05
          },
          "xaxis": {
           "automargin": true,
           "gridcolor": "white",
           "linecolor": "white",
           "ticks": "",
           "title": {
            "standoff": 15
           },
           "zerolinecolor": "white",
           "zerolinewidth": 2
          },
          "yaxis": {
           "automargin": true,
           "gridcolor": "white",
           "linecolor": "white",
           "ticks": "",
           "title": {
            "standoff": 15
           },
           "zerolinecolor": "white",
           "zerolinewidth": 2
          }
         }
        },
        "title": {
         "text": "Зависимость от суммы первой покупки"
        },
        "xaxis": {
         "anchor": "y",
         "domain": [
          0,
          1
         ],
         "title": {
          "text": "Категория суммы"
         }
        },
        "yaxis": {
         "anchor": "x",
         "domain": [
          0,
          1
         ],
         "title": {
          "text": "Среднее количество покупок"
         }
        }
       }
      },
      "image/png": "[encoded data removed]"
     },
     "metadata": {},
     "output_type": "display_data"
    },
    {
     "data": {
      "application/vnd.plotly.v1+json": {
       "config": {
        "plotlyServerURL": "https://plot.ly"
       },
       "data": [
        {
         "hovertemplate": "Сумма первой покупки=%{x}<br>Общее количество покупок=%{y}<extra></extra>",
         "legendgroup": "",
         "marker": {
          "color": "#636efa",
          "symbol": "circle"
         },
         "mode": "markers",
         "name": "",
         "showlegend": false,
         "type": "scattergl",
         "x": {
          "bdata": "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",
          "dtype": "f8"
         },
         "xaxis": "x",
         "y": {
          "bdata": "AQEBAQEBAQEBAQEBAQEBAQEBAgEBAQEBAQEBAQEBAgEBAQEBAQIBAQEBAQIBAQEBAQEBAQEBAQEBAQEBAQEBAQEBAQEBAQEBAQEBAQEBAQEBAQEBAQEBAQEBAQECAQEBAQEBAQEBAQEBAQEBAQEBAQEBAQEBAQEBAQEBAQEBAgEBAQEBAQEBAQEBAQEBAQECAgEBAQEBAQEBAQEBAQECAQEBAQEBAQEBAQEBAQEBAQEBAQEBAQEBAQEBAQEBAQEBAQEBAQEBAgEBAQEBAQEBAQIBAQEBAQEBAQEBAQEBAQEBAQEBAQEBAQEBAQEBAQIBAQEBAQEBAQEBAgEBAQIBAQEBAQICAQEBAQEBAQEBAQEBAQMBAQEBAQEBAQEBAQEBAQEBAQEBAQEBAQEBAQEBAQEBAgEBAQEBAQEBAQEBAQEBAQEBAQEBAQEBAQEBAQEBAQEBAQEBAQEBAQEBAQEBAQEBAQEBAQEBAQEBAQEBAQEBAQEBAQUBAQIBAQIBAQEBAQEBAQEBAQEBAQEBAQEBAQEBAQEBAQEBAQEBAQEBAQEBAQEBAQEBAQEBAQEBAQEBAQEBAQEBAQEBAQEBAQEBAQEBAQEBAQEBAQEBAQEBAQEBAQEBAQEBAQEBAQEBAQEBAQEBAQEBAQEBAQEBAQMBAQEBAQEBAQEBAQEBAQEBAQEBAQEBAQEBAQEBAQEBAQEBAQEBAQEBAQECAQEBAQEBAQEBAQEBAQEBAQEBAQEBAQEBAQEBAQEBAQEBAQEBAQEBAQEBAQEBAQEBAQEBAQEBAQEBAQEBAQEBAQEBAQEBAQEBAQEBAQEBAQEBAQEBAQEBAQEBAQEBAQECAQEBAQEBAQEBAQEBAQEBAQEBAQEBAQEBAQEBAQEBAQEBDwEBAQEBAQMBAQEBAgEBAQEBAQEBAQEBAwECAQEBAQEBAQEBAQECAQEBAQEBAQECAQEBAQEBAQEBAQEBAQEBAgEBAQEBAQEBAQEBAQEBAQIBAQEBAQEBAQEBAQEBAQEBAQEBAQEBAQEBAQEBAQEBAQEBAQEBAQEBAQEBAgEBAQEBAQEBAQEBAQEBAQEBAQEBAQECAQEBAQEBAQEBAQIBAQEBAQEBAQEBAQEBAQEBAQEBAQEBAQEBAQEBAQEBAQEBAQEBAQEBAQEBAQEBAQEBAQEBAQEBAQEBAQEBAQEBAQEBAQEBAQEBAQEBAQEBAQEBAQEBAQEBAQEBAQEBAQEBAQEBAgEBAQEBAQEBAQEBAQEBAQIBAQIBAQEBAgEBAQEBAQEBAQEBAQEBAQECAQEBAgEBAQEBAQEBAQEBAQEBAQEBAgEBAQEBAQEBAQEBAQEBAQEBAQEBAQEBAQEBAQICAQEBAQECAQEBAQEBAQECAQEBAQEBAQEBAQEBAQEBAQEBAQEBAQEBAQEBAQEBAQEBAQEBAQIBAQEBAQEBAQEBAQEBAQEBAQMBAQEBAQEBAwEBAQEBAQEBAQEBAQEBAQEBAQEBAQECAQEBAQEBAQEDAwIBAQEBAQEBAgEBAQEBAQECAQEBAQEBAQEBAQEBAgEBAQEBAQEBAQEBAQEBAQEBAQEBAQEBAQEBAQEBAQEBAQEBAQEBAQEBAQEBAQEBAQEBAQEBAQEBAQEBAQEBAQEBAQEBAQEBAQEBAQEBAQEBAQEBAQEBAQEBAQEBAQEBAgECAQEBAQEBAgEBAQEBAQECAQEBAQEBAQEBAQEBAQEBAQEBAgEBAQEBAQEBAQEBAQEBAQEBAQEBAQEBAQIBAQECAQEBAQEBAQEBAQEBAQEBAQEBAQEBAQEBAQEBAQIBAQEBAQEBAQEBAQEBAQEBAQEBAQECAQEBAQEBAQECAQEBAQIBAQEBAQEBAQEBAQEBAQEBAQEBAQEBAQEBAQEBAQEBAQEBAQEBAQEBAQEFAQEBAQEBAQEBAQEBAQEBAQEBAQEBAQIBAQEBAQEBAQEBAQEBAgEBAQEBAQEBAQEBAQEBAQEBAQEBAQEBAQEBAQEBAQEBAQEBAQECAgEBAgIBAQEBAQEBAQEDAQEBAQEBAQEBAQEBAQEBAQEBAQEBAQEBAQEBAQEBAQEBAQEEAQEBAQEBAQEBAQEBAQEBAQEBAQECAQEBAQEDAQEBAQECAgIBAQEBAQEBAQEBAQEBAQEBAQEBAQEBAQEBAQEBAQEBAQEBAQYBAQEBAQEBAgEBAQEBAQEBAQEBAQEBAgEBAQEBAQEBAQEBAQEBAQEBAQIBAQEBAQEBAQEBAQEBAQEBAQEBAQEBAwEBAwECAQEBAQEBAQEBAQEBAwMBAQECAQEBAQEBAQEBAQEBAQECAQEBAQEBAQEBAQEBAQEBAQEBAQEBAQEBAQEBAQEBAQEBAQEBAQEBAQEBAQEBAQEBAQEBAQEBAQEBAQEBAQEBAQEBAQEBAQEBAQEBAQEBAQEBAQEBAQEBAQEBAQMBAQEBAQEBAQEBAQEBAQEBAQEBAQEBAQEBAQQBAwEBAQEBAQEBAQEBAQEBAQIBAQEBAQEBAQECAQEBAQEBAQEBAQECAQEDAQEBAQEBAQEBAQEBAQEBAQEBAQEBAQEBAQEBAQEBAQEBAQEBAQEBAQEBAQEBAQIBAgEBAQEBAQEBAQEBAQEBAQEBAQEBAQEBAQEBAQEBAQEBAQEBAQEBAQEBAQEBAQECAQEBAQEBAQEBAQEBAQEBAQEBAQEBAQUBAQEBAQEBAQEBAQEBAQEBAQEBCgEBAQEBAQEBAQEBAQEBAQEBAQEBAQEBAQEBAQEBAQEBAQEBAQEBAQEBAQEBAQEBAQIBAQEBAQEBAQEBAQEBAQEBAQIBAQEBAQEBAgEBAQEBAgECAQIBAQEBAQECAQEBAQEBAgEBAQEBAQEBAQEBAQEBAQMBAQEBAQEBAQECAQEFAQEBAQEBAQEBAQEBAQIBAQEBAQEBAQEBAQEBAgEBAQECAQEDBAEBAQEBAQEBAQEBAQEDAQEBAQEBAQEBAQEBAQEBAQEBAQEBAQEBAQECAQEBAQEBAQEBAQEBAQEBAQEBAQEBAQEBAQEBAQIBAQEBAQEBAQEBAQEBAQQBAQEBAQEBAQEBAQEBAQEBAQEBAQEBAQEBAQEBAQEBAQEBAQEBAQIBAQEBAQEBAQMBAQEBAQEBAQEBAgEBAQEBAQEBAQEBAQEBAQEBAQEBAQEBAQEBAQIBAQIBAQEBAQEBAQEBAQEBAgEBAQIBAwEBAQEBAQEBAQEBAQEBAQEBAQEBAQEDAQEBAQEBAQEBAQEBAQEBAQEBAQEBAQEBAQECAQEBAQEBAQEBAQEBAQEBAQEBAQEBAQEBAQEBAQEBAQEBAQEBAQEBAQEBAQEBAQEBAQEBAQEBAQEBAgEBAQEBAQEBAQEBAQEDAQEBAQEBAQEBAQEBAQEBAQEBAQEBAQEBAQEBAQEBAQEBAQEBAQEBAQEBAQEBAQEBAQEBAQEBAQEBAQEBAQEBAQEBAQEBAQEBAQQBAQEBAQIBAQEBAQEBAQEBAQEBAQEBAQEBAQEBAQEBAQEBAQEBAQEBAQEBAQEBAQEBAQEBAQEBAQEBAQEBAQEBAQEBAQEBAQEBAQEBAQEBAQEBAQEBAQEBAQEBAQEBAQMBAQEBAQEBAQEBAQEBAQEBAQEBAgEBAQEBAQEBAQEBAQEBAQEBAQEBAQEBAQEBAQEBAQEBAQIBAQEBAQEBAQEBAQEBAQEBAQEBAQEBAQEBAQEBAQEBAQEBAQEBAQEBAQEBAQEBAQEBAQEBAQEBAQEBAQEBAQEBAQEBAgEBAQEBAQIBAQEBAQEBAQEBAQEBAQIBAQIBAQEBAQEBAQEBAQEBAQEBAQEBAQEBAQEBAQEBAQEBAQEBAQEBAQEBAQEBAQEBAQEBAQEBAQEBAQEBAQECAQEBAQEBAQECAQEBAQEBAQEBAQIBAQEBAQEBAQEBAQEBAQEBAQEBAQEBAQEBAQECAQEBAQEBAQIBAQEBAQEBAQEBAQEBAQEBAQECAQEBAQEBAQEBAQEBAQEBAQEBAQEBAQEBAQEBAQEBAQEBAQEBAQEBAQEBAQIBAQEBAQEBAQEBAQEBAQEDARcBAQEBAQEBAQEBAQEBBAEBAQEBAgEBAQEBAQEFAQECAQECAQECAQEBAQEBAQEBAQEBAQEBAQEBAQEBAQIBAQEBAQEBAQEBAQEBAQEBAQEBAQIBAQEBAQECAQEBAgEBAQEBAQIBAQEBAQEBAQEBAQEBAQEBAQEBAQEBAQQBAQEBAQEBAQEBAQEBAQEBAQEBAQEBAQEBAQEBAQEDAQIBAQEBAQEBAQIBAgEBAQEBAQEBAQEBAQEBAQEBAQEBAQEBAQEBAQEBAQEBAQMEAQEBAQMBAQEBAQEBAQEBAgEBAQoBAQEBAQEBAQEBAgEBAQEBAQEBAQEBAQECAQEBAQEBAQEBAQECAQEBAQEBAQEBAQEBAQEBAgEBAQEBAQEBAQIBAQEBAQEBAQEBAQEBAQEBAQIBAQEBAQEBAQEBAQEBAQECAQEBAQEBAQEBAQEBAQEBAQEBAQEBAQEBAgEBAQEBAgMBAQECAQEBAQEBAQEBAQEBAQECAQEBAQEBAQEBAQEBAQECAQEBAQEBAQEBAQEBAQEBAQEBAQEBAQEBAQEBAQIBAQEBAQEBAQEBAQEBAQEBAQEBAQEBAQECAQEBAQEBAQEBAQEBAQEBAQEBAQEBAQEBAQEBAQEBAwEBAQEBAQEBAQEBAQEBAQEBAQEBAQEBAQEBAQEBAQEBAQEBAQEBAQEBAQEBAQEBAQEBAQEBAQEBAQEBAQECAgEBAQEBAQEBAQEBAQEBAQEBAQEBAQEBAQEBAQEBAQEBAQEBAQICAQEBAQEBAgEBAQIBAQEBAQEBAQEBAQEBBAEBAQEBAQEBAQEBAQEBAQEBAQEBAQECAQEBAQELAQEBAQEBAQEBAQEBAgEBAQIBAQEBAQEBAQEBAQEBAQEBAQEBAQEBAQECAQEBAgEBAQMBAQEEAQEBAQEBAQEBAQEBAQIBAQIBAQEBAQEBAQEBAQEBAQEBAQIBAQEBAgEBAQEBAQEBAQEBAQoBAQICAQEBBAEBAQEBAQEBAQEBAQEBAQEBAQEBAQEBAQEBAQEBAQEBAQEBAQEBAQMBAQEBAgEBAQEBAQEBAQEBAQEBAQEBAQIBAQEBAQEBAQEBAQECAQEBAQEBAQEBAQEBAQEBAQEBAQEBAQEBDgEBDwEBAQECAQEBAQEDAQEBAQEBAQEBAQECAQEBAQEBAgEBAwECAgEBAQEBAQEBAQEBAQEBAQEDAQEBAwECAQECAQEBAQEBAQEBAQEBAQEBAQEBAQEBAQIBAQEBAQEBAQIBAQEBAQEBAQEBAQEBAQEBAQECAQEBAQECAQIBAQEBAgEBAQEBAQEBAQEBAQEBAQEBAQEBAQEBAwIBAQEBAQEBAQEBAQEEAQEBAQMBAQEBAQEBAQEBAQEBAQEBAQIBAgEBAQEBAQEBAQEBAQECAQEBAgEBAQEBAQEBAQQBAQEBAQEBAQEBAgEBAQEBAQEBAQIBAQEBAQEBAQEBAQIBAQEBAwMBAQEBAQEBAQEBAQEBAQEBAQQCAgEBAQEBAQIBAQEBAQEBAQEBAQEBBAEBAQEBAQEBAQEBAQEBAQEBAQEBAQEBAQEBAQIBAQECAQECAQEDAQEBAQEBAQIBAQIBAQEBAQEBAQEBAQEBAQEBAQIBAQEBAgEBAQEBAQEBAQEBAQIBAQEBAQIBAQECAQEBAQICAgEBAQEBAQMBAQEBAQECAQEBAQEBAQEBAQEBAQEBAQEBAQEDAQEBAQEBAQEBAQEBAQEBAQEBAQEBAQEBAQEBAQEBAQEBAQECAQICAQEBAQEBAQEBAQEBAQEBAQEBAQEBAQEBAQECAQEBAQECAQEBAQEBAgEBAQEEAgECAQEBAQEBAQEBAQIBAQEBAQEBAQEBAQEBAQEBAgEBAQEBAQEBAQECAQEBAQEBAQEBAgEBAwEBAQEBAQEBAQEBAQIBAQEBAQEBAQEBAQEBAgEBAQEBAQICAQECAQEBAQEBAQEBAQEBAQEBAQIBAQEBAQEBAQEBAQEBAQECAwEBAgEBAQEBAQEBAQECAQEBAQEBAQEBAQECAQEBAQEBAgEBAQIBAgEBAQEBAQEBAQEBAQEBAQEBAQMBAwMBAgEBAQEBAQEBAQEBAQEBAwECAgEBAQEBAQEEAQEBAQEBAQEBAQECAQEBAQEBAQEBAwEBAQEBAQIBAQMBAQEBAQEBAQEBBAEDAQEBAQEBAQIBAQEBAQEBAQIBAQIBAQECAQEBAQEBAQEBAQIBAQEBAQEBAQEBAQEBAQEBAQEBAQEBAQEBAQECAQIBAQEBAQEBAgEBAQEBAQEBAQEBAQIBAQEBAQEBAQIBAQIBAgEBAQEBAQEBAQEBAQEBAQEBAQIBAQEBAQEBAQEBAQEBAQEBAgEDAQIBAgECAQEBAQEBAQEBAQEBAQECAQEBAgEBAQIBAQEBAQEBAQEBAQEBAgEBAgEDAQIBAQEBAQEBAQEBAQEBAgEBAQEBAQIBAQEBAQEDAQEBAQECAQEBAQEBAQEBAQEBAQEBAQEBAQEBAQEBAQIBAQEBAQIBAQEBAQEBAQEBAQEBAQEBAQIDAQEBAgEBAQEBAQEBAQECAgEBAQEBAQEBAQECAQEBAQEBAQEBAQICAQEBAQEBAQEBAQEBAQECAQEBAQEBAQMBAQIBAQIDAQEBAQEBAQEBAQEBAQEBAQEBAQEBAQECAgECAQEBAQEBAQEDAQEBAQECAQEBAQEDAQEBAgEBAQEBAQEBAQEBAQEBAgEBAQEBAQEBAQEBAQEBAQEBAQEBAQIBAQEBAQEBAgEBAQEBAQEBAQEBAQEBAQEBAQEBAQEBAQEDAgEBAgEBAQEBAQEEAwEBAQEBAQEBAQEBAQEBAQEBAQIBAgEBAQIBAQEBAQEBAQEBAQEBAQEBAQEBAQEBAQIFAQEBAQEBAQMBAQEBAQEBAQEBAQEBAQEBAQEBAQEBAQEBAgIBAQECAQEBAQEBAQEBAQEBAQEBAQMBAQEBAQEBAQECAQEBAQEBAQEBAQYBAQEBAQIBAgEBAQEBAwEBAQEBAQEBAQEBAQEBAQEBAQEDAQEBAQEBAQEBAQEBAQEBAQEBAQEBAQEDAQMBAQEBAQIBAQEBAQEBAQEBAgEBAQEBAQEBAQEBAQEEAQEBAQEBAQEBAQEBAQEBAQEBAQEBAQEBAQEBAQEBBAEBAQEBAQEBAQEBAQEBAQEBAQEBAQEBAgEBAQEBAQEBAQEBAQIBAQEBAQEBAQEBAQEBAQEBAQECAQEBAQEBAQEBAQEBAQEBAQEBAQEBAQEBAQEBAQEBAQEBAQEBAQEBAQEBAQEBAQEBAQEBAQEBAQEBAgEBAQEBAQEBAQEBAQEBAQEBAQEBAQIBAQIBAQIBAQEBAQEBAQEBAgEBAQEBAQEBAQEBAQEBAQEBAQEBAQEBAQEBAQEDAQEDAQEBAQEDAQEBAQEBAQEBAQEBAQEBAQEBAQEBAQIBAQEBAQEBAgEBAQEBAQEBAQEBAQEBAQEBAQEBAQEBAQEBAQEBAQEBAQEBAQEBAQEBAQEBAQEBAQEBAQEBAQEBAQEBAQEBAQECAQEBAQEBAQEBAQEBAQEBAQEBAQEBAQEBAQEBAQEBAQEEAQEBAQEBAQEBAQEBAQEBAQECAQEBAQEBAQEBAQEBAQEBAQEBAQEBAQEBAQEBAQEBAQEBAQEBAQEBAQEBAQEBAQEBAQEBAQEBAQEBAQEBAQECAQEBAgEBAQEBAgEBAQEBAQEBAQEBAQEBAQEBAQEBAQEBAQEBAQEBAQECAQEBAQEBAQEBAQEBAQEBAQEBAQEBAQEBAQEBAQEBAQEBAQEBAQEBAQEBAQEBAQEBAQEBAQEBAQEBAQEBAQEBAQEBAQEBAQEBAQEBAQEBAQEBAQEBAQECAQEBAwEBAQEBAQYBAQEBAQEBAQEBAQEBAQEBAQECAQEBAQEBAQEBAQEBAQEBAQEBAQEBAQEBAQEBAQEBAQEBAQEBAQEBAQEBAQECAQEBAQEBAQEBAQEBAQEBAQEBAQEBAQEBAQEBAQEBAQEBAQEBAQEBAQEBAQEBAQEBAQEBAQEBAQEBAQEBAQEBAQEBAQEBAQEBAQEBAQEBAQEBAQEBAQEBAwEBAQEBAQEBAQEBAQEBAQEBAQEBAQEBAQEBAQEBAQEBAQEBAQEBAQEBAQEBAgEBAQEBAQEBAQEBAQEBAQEBAQEBAQEBAQEBAQEBAQEBAQEBAQEBAQEEAQEBAQEBAQEBAQEBAQEBAQEBAQEBAgEBAQEBAQEBAQEBAQEBAQEBAgEBAQEBAQEBAQEBAQEBAQEBAQEBAQEBAQEBAQEBAQEBAQEBAQEBAQEBAQEBAQEBAQEBAQEBAQEBAQEBAQEBAQEBAQEBAQEBAQEBAQEBAQEBAQEBAQEBAQEBAQEBAQEBAQEBAQEBAQEBAQECAQEBAQEBAQEBAQEBAQEBAQEBAQIBAQEBAQEBAQEBAQEFAQEBAQEBAQEBAQECAgEBAQEBAQEBAQEBAQEBAQEBAQEBAQEBAQIBAQEBAQEBAQEBAQEBAQEBAQIBAQEBAQEBAQEBAQEBAQEBAQEBAQEBAQEBAQEBAQEDAQEBAQEBAQEBAQEBAQEBAQEBAQEBAQEBAQEBAQEBAQEBAQEBAQEBAQEBAQEBAQEBAQEBAQEBAQEBAQEBAQEBAQECAQEBAQEBAQEBAQEBAQEBAQEBAQEBAQEDAQEBAQEBAQEBAQEBAQEBAQEBAQEBAQEBAQEBAQEBAQEBAQEBAQEBAQEBAQEBAQEBAQEBAQEBAQEBAQEBAQEBAQEBAQEBAQEBAQEBAQEBAQEBAQEBAQEBAQEBAQEBAQEBAQEBAQEBAQEBAQEBAQEBAQEBAQEBAQEBAgEBAQEBAQEBAQEBAQEBAQEBAQEBAQEBAQEBAQEBAQECAQEBAQEBAQEBAQEBAQEBAgIBAQIBAQEBAQEBAQEBAQEBAQEBAQEBAQEBAQEBAQEBAQEBAQEBAQEBAQEBAQEBBAEBAQEBAQEBAQEBAQEBAQEBAQEBAQEBAQEBAQEBAQEBAQEBAQEBAQEBAQEBAQEBAQEBAQEBAQEBAQECAQEBAQIBAQEBAQEBAQEBAQEBAQEBAQEBAQEBAQEBAQEBAQEBAQEBAQEBAQEBAQEBAQEBAQEBAQEBAQEBAQEBAQEBAQEBAQEBAQEBAQEBAgIBAQEBAQEBAQEBAQEBAQEBAQIBAQEBAQEBAQEBAQIBAQECAQEBAQECAQMBAQEBAQEBAQEBAQEBAQEBAQEBAQMBAQEBAQEBAQEBAQEBAQEBAQEBAQEBAQEBAQEBAQEBAQEBAQEBAQEBAQEBAQEBAQEBAQEBAQEBAQEBAQEBAQEBAQEBAQEBAQEBAQEBAQEBAQEBAQEBAQEBAQEBAQEBAQEBAQEBAQEBAQEBAQEBAQEBAQEBAQEBAQEBAQEBAQEBAQEBAQEBAQEBAQEBAQEBAQMBAQEBAQEBAgEBAQEBAQEBAQEBAQEBAQEBAQEBAQEBAQEBAQEBAQEBAQEBAQEBAQEBAQEBAQEEAQEBAQEBAQEBAQEBAQEBAQEBAQEBAQEBAQEBAgEBAQEBAQIBAQEBAQEBAgIBAQEBAQEBAQEBAQEBAQEBAQEBAQEBAQEBAQEBAQEBAQEBAQEBAQEBAQEBAQEBAQEBAQEBAQEBAQEBAQECAQEBAQEBAQIBAQEBAQEBAQEBAwEBAQEBAQEBAQEBAQEBAQEBAQEBAQEBAQEBAQEBAQEBAQEBAQEBAQEBAQEBAgEBAQEBAQEBAQEBAQEBAQEBAQEBAQEBAQEBAQEBAQEBAQEBAQEBBQEBAQEBAQEBAQEBAQEBAQEBAQEBAQEBAQEBAQEBAQEBAQEBAQEBAQEBAQEBAQEBAQEBAQEBAQEBAQEBAQEBAQEBAQEBAQEBAQEBAQEBAQEBAQEBAwEBAQEBAQEBAgEBAQEBAQEBAQEBAQEBAQEBAQEBAQEBAQEBAQEBAQEBAQEBAQEBAQEBAQEBAQEBAQEBAQEBAQEBAQEBAQEBAQEBAQIBAQEBAQEBAQEBAQEBAgEBAQEBAQEBAQEBAQEBAQEBAQEBAQEBAQEBAQEBAQECAQEBAQEBAQEBAQEBAQEBAQEBAQEBAQEBAQEBAQEBAQEBAQEBAQEBAQEBAQEBAQEBAQEBAQEBAQEBAQEBAQEBAQEBAQEBAQEBAQEBAQEBAQEBAQEBAQIBAQEBAQEBAQEBAQEBAQEBAQEBAQEBAQEBAQEBAQEBAQEBAQEBAgEBAQEBAQEBAQEBAQEBAQEBAQIBAQEDAQEBAQEBAQEBAQEBAQEBAQEBAQEBAQEBAQEBAgEBAQEBAQEBAQEBAQEBAQEBAQEBAgEBAQEBAQEBAQEBAQEBAQEBAQEBAQEBAQEBAQEBAQEBAQEBAQIBAQEBAQEBAQEBAQEBAQECAQMBAQEBAQEBAQEBAQEBAQEBAQEBAQEBAQEBAQEBAQEBAQEBAQEBAQEBAQEBAQEBAQEBAQEBAgEBAQEBAQEBAQEBAQEBAQEBAQEBAQEBAQEBAQEBAQEBAQEBAQIBAQEBAQEBAQEBAQEBAQEBAQEBAQEBAQEBAQEBAQEBAQEBAQEBAQEBAQEBAQEBAQEBAQEBAQEBAQEBAQEBAQEBAQEBAQEBAQEBAQECAQEBAQEBAQEBAQEBAQEBAQEBAQEBAQEBAQEBAQEBAQEBAQEBAQEFAQEBAQEBAQEBAQIBAQEBAQEBAQEBAQEBAgEBAQEBAQEBAQIBAQEBAQEBAQMBAQEBAQEBAQECAQEBAQECAQEBAQEBAQEBAQEBAQEBAQECAQEBAQEBAQEBAQEBAQEBAQEBAQEBAQEBAQEBAQEBAQEBAQEBAQEBAQEBAQEBAQEBAQEBAQEBAQEBAQEBAQEBAQEBAQEBAQIBAQEBAQEBAQEBAQEBAQEBAQECAQEBAQEBAQEBAQEBAQEBAQEBAQEBAQEBAQEBAQEBAQEBAQEBAQEBAQEBAQEBAQEBAQEBAQEBAQEBAQEBAQEBAQEBAQEBAQEBAQEBAQEBAQEBAQEBAQEBAQEBAQEBAQEBAQEBAQECAQEBAQEBAQEBAQEBAQIBAQEBAQEBAQEBAQEBAQEBAQEBAQEBAQEBAQEBAQEBAQEBAQEBAQEBAQEBAQEBAQEBAQEBAQEBAQEBAQEBAQEBAQEBAQEBAQEBAQEBAQEBAQEBAQEBAQEBAQEBAQEBAQEBAQEBAQEBAQEBAQEBAQEBAQEBAQEBAQEBAQEBAQEBAQEBAQEBAQEBAQEBAQIBAQEBAQEBAQIBAQEBAQEBAQEBAQEBAQECAQEBAQEBAQEBAQEBAQEBAgEBAQEBAQEBAQEBAQEBAQEBAQEBAQEBAQEBAQEBAQEBAQEBAQEBAQEBAQEBAQEBAQEBAQEBAQEBAQEBAgEBAQEBAQEBAQEBAQEBAQEBAQEBAQEBAQEBAQEBAQEBAQEBAQEBAQEBAQEBAQEBAQEBAQEBAQEBAQEBAQEBAQEBAQEBAQEBAQEBAQEBAQEBAQ==",
          "dtype": "i1"
         },
         "yaxis": "y"
        }
       ],
       "layout": {
        "legend": {
         "tracegroupgap": 0
        },
        "template": {
         "data": {
          "bar": [
           {
            "error_x": {
             "color": "#2a3f5f"
            },
            "error_y": {
             "color": "#2a3f5f"
            },
            "marker": {
             "line": {
              "color": "#E5ECF6",
              "width": 0.5
             },
             "pattern": {
              "fillmode": "overlay",
              "size": 10,
              "solidity": 0.2
             }
            },
            "type": "bar"
           }
          ],
          "barpolar": [
           {
            "marker": {
             "line": {
              "color": "#E5ECF6",
              "width": 0.5
             },
             "pattern": {
              "fillmode": "overlay",
              "size": 10,
              "solidity": 0.2
             }
            },
            "type": "barpolar"
           }
          ],
          "carpet": [
           {
            "aaxis": {
             "endlinecolor": "#2a3f5f",
             "gridcolor": "white",
             "linecolor": "white",
             "minorgridcolor": "white",
             "startlinecolor": "#2a3f5f"
            },
            "baxis": {
             "endlinecolor": "#2a3f5f",
             "gridcolor": "white",
             "linecolor": "white",
             "minorgridcolor": "white",
             "startlinecolor": "#2a3f5f"
            },
            "type": "carpet"
           }
          ],
          "choropleth": [
           {
            "colorbar": {
             "outlinewidth": 0,
             "ticks": ""
            },
            "type": "choropleth"
           }
          ],
          "contour": [
           {
            "colorbar": {
             "outlinewidth": 0,
             "ticks": ""
            },
            "colorscale": [
             [
              0,
              "#0d0887"
             ],
             [
              0.1111111111111111,
              "#46039f"
             ],
             [
              0.2222222222222222,
              "#7201a8"
             ],
             [
              0.3333333333333333,
              "#9c179e"
             ],
             [
              0.4444444444444444,
              "#bd3786"
             ],
             [
              0.5555555555555556,
              "#d8576b"
             ],
             [
              0.6666666666666666,
              "#ed7953"
             ],
             [
              0.7777777777777778,
              "#fb9f3a"
             ],
             [
              0.8888888888888888,
              "#fdca26"
             ],
             [
              1,
              "#f0f921"
             ]
            ],
            "type": "contour"
           }
          ],
          "contourcarpet": [
           {
            "colorbar": {
             "outlinewidth": 0,
             "ticks": ""
            },
            "type": "contourcarpet"
           }
          ],
          "heatmap": [
           {
            "colorbar": {
             "outlinewidth": 0,
             "ticks": ""
            },
            "colorscale": [
             [
              0,
              "#0d0887"
             ],
             [
              0.1111111111111111,
              "#46039f"
             ],
             [
              0.2222222222222222,
              "#7201a8"
             ],
             [
              0.3333333333333333,
              "#9c179e"
             ],
             [
              0.4444444444444444,
              "#bd3786"
             ],
             [
              0.5555555555555556,
              "#d8576b"
             ],
             [
              0.6666666666666666,
              "#ed7953"
             ],
             [
              0.7777777777777778,
              "#fb9f3a"
             ],
             [
              0.8888888888888888,
              "#fdca26"
             ],
             [
              1,
              "#f0f921"
             ]
            ],
            "type": "heatmap"
           }
          ],
          "histogram": [
           {
            "marker": {
             "pattern": {
              "fillmode": "overlay",
              "size": 10,
              "solidity": 0.2
             }
            },
            "type": "histogram"
           }
          ],
          "histogram2d": [
           {
            "colorbar": {
             "outlinewidth": 0,
             "ticks": ""
            },
            "colorscale": [
             [
              0,
              "#0d0887"
             ],
             [
              0.1111111111111111,
              "#46039f"
             ],
             [
              0.2222222222222222,
              "#7201a8"
             ],
             [
              0.3333333333333333,
              "#9c179e"
             ],
             [
              0.4444444444444444,
              "#bd3786"
             ],
             [
              0.5555555555555556,
              "#d8576b"
             ],
             [
              0.6666666666666666,
              "#ed7953"
             ],
             [
              0.7777777777777778,
              "#fb9f3a"
             ],
             [
              0.8888888888888888,
              "#fdca26"
             ],
             [
              1,
              "#f0f921"
             ]
            ],
            "type": "histogram2d"
           }
          ],
          "histogram2dcontour": [
           {
            "colorbar": {
             "outlinewidth": 0,
             "ticks": ""
            },
            "colorscale": [
             [
              0,
              "#0d0887"
             ],
             [
              0.1111111111111111,
              "#46039f"
             ],
             [
              0.2222222222222222,
              "#7201a8"
             ],
             [
              0.3333333333333333,
              "#9c179e"
             ],
             [
              0.4444444444444444,
              "#bd3786"
             ],
             [
              0.5555555555555556,
              "#d8576b"
             ],
             [
              0.6666666666666666,
              "#ed7953"
             ],
             [
              0.7777777777777778,
              "#fb9f3a"
             ],
             [
              0.8888888888888888,
              "#fdca26"
             ],
             [
              1,
              "#f0f921"
             ]
            ],
            "type": "histogram2dcontour"
           }
          ],
          "mesh3d": [
           {
            "colorbar": {
             "outlinewidth": 0,
             "ticks": ""
            },
            "type": "mesh3d"
           }
          ],
          "parcoords": [
           {
            "line": {
             "colorbar": {
              "outlinewidth": 0,
              "ticks": ""
             }
            },
            "type": "parcoords"
           }
          ],
          "pie": [
           {
            "automargin": true,
            "type": "pie"
           }
          ],
          "scatter": [
           {
            "fillpattern": {
             "fillmode": "overlay",
             "size": 10,
             "solidity": 0.2
            },
            "type": "scatter"
           }
          ],
          "scatter3d": [
           {
            "line": {
             "colorbar": {
              "outlinewidth": 0,
              "ticks": ""
             }
            },
            "marker": {
             "colorbar": {
              "outlinewidth": 0,
              "ticks": ""
             }
            },
            "type": "scatter3d"
           }
          ],
          "scattercarpet": [
           {
            "marker": {
             "colorbar": {
              "outlinewidth": 0,
              "ticks": ""
             }
            },
            "type": "scattercarpet"
           }
          ],
          "scattergeo": [
           {
            "marker": {
             "colorbar": {
              "outlinewidth": 0,
              "ticks": ""
             }
            },
            "type": "scattergeo"
           }
          ],
          "scattergl": [
           {
            "marker": {
             "colorbar": {
              "outlinewidth": 0,
              "ticks": ""
             }
            },
            "type": "scattergl"
           }
          ],
          "scattermap": [
           {
            "marker": {
             "colorbar": {
              "outlinewidth": 0,
              "ticks": ""
             }
            },
            "type": "scattermap"
           }
          ],
          "scattermapbox": [
           {
            "marker": {
             "colorbar": {
              "outlinewidth": 0,
              "ticks": ""
             }
            },
            "type": "scattermapbox"
           }
          ],
          "scatterpolar": [
           {
            "marker": {
             "colorbar": {
              "outlinewidth": 0,
              "ticks": ""
             }
            },
            "type": "scatterpolar"
           }
          ],
          "scatterpolargl": [
           {
            "marker": {
             "colorbar": {
              "outlinewidth": 0,
              "ticks": ""
             }
            },
            "type": "scatterpolargl"
           }
          ],
          "scatterternary": [
           {
            "marker": {
             "colorbar": {
              "outlinewidth": 0,
              "ticks": ""
             }
            },
            "type": "scatterternary"
           }
          ],
          "surface": [
           {
            "colorbar": {
             "outlinewidth": 0,
             "ticks": ""
            },
            "colorscale": [
             [
              0,
              "#0d0887"
             ],
             [
              0.1111111111111111,
              "#46039f"
             ],
             [
              0.2222222222222222,
              "#7201a8"
             ],
             [
              0.3333333333333333,
              "#9c179e"
             ],
             [
              0.4444444444444444,
              "#bd3786"
             ],
             [
              0.5555555555555556,
              "#d8576b"
             ],
             [
              0.6666666666666666,
              "#ed7953"
             ],
             [
              0.7777777777777778,
              "#fb9f3a"
             ],
             [
              0.8888888888888888,
              "#fdca26"
             ],
             [
              1,
              "#f0f921"
             ]
            ],
            "type": "surface"
           }
          ],
          "table": [
           {
            "cells": {
             "fill": {
              "color": "#EBF0F8"
             },
             "line": {
              "color": "white"
             }
            },
            "header": {
             "fill": {
              "color": "#C8D4E3"
             },
             "line": {
              "color": "white"
             }
            },
            "type": "table"
           }
          ]
         },
         "layout": {
          "annotationdefaults": {
           "arrowcolor": "#2a3f5f",
           "arrowhead": 0,
           "arrowwidth": 1
          },
          "autotypenumbers": "strict",
          "coloraxis": {
           "colorbar": {
            "outlinewidth": 0,
            "ticks": ""
           }
          },
          "colorscale": {
           "diverging": [
            [
             0,
             "#8e0152"
            ],
            [
             0.1,
             "#c51b7d"
            ],
            [
             0.2,
             "#de77ae"
            ],
            [
             0.3,
             "#f1b6da"
            ],
            [
             0.4,
             "#fde0ef"
            ],
            [
             0.5,
             "#f7f7f7"
            ],
            [
             0.6,
             "#e6f5d0"
            ],
            [
             0.7,
             "#b8e186"
            ],
            [
             0.8,
             "#7fbc41"
            ],
            [
             0.9,
             "#4d9221"
            ],
            [
             1,
             "#276419"
            ]
           ],
           "sequential": [
            [
             0,
             "#0d0887"
            ],
            [
             0.1111111111111111,
             "#46039f"
            ],
            [
             0.2222222222222222,
             "#7201a8"
            ],
            [
             0.3333333333333333,
             "#9c179e"
            ],
            [
             0.4444444444444444,
             "#bd3786"
            ],
            [
             0.5555555555555556,
             "#d8576b"
            ],
            [
             0.6666666666666666,
             "#ed7953"
            ],
            [
             0.7777777777777778,
             "#fb9f3a"
            ],
            [
             0.8888888888888888,
             "#fdca26"
            ],
            [
             1,
             "#f0f921"
            ]
           ],
           "sequentialminus": [
            [
             0,
             "#0d0887"
            ],
            [
             0.1111111111111111,
             "#46039f"
            ],
            [
             0.2222222222222222,
             "#7201a8"
            ],
            [
             0.3333333333333333,
             "#9c179e"
            ],
            [
             0.4444444444444444,
             "#bd3786"
            ],
            [
             0.5555555555555556,
             "#d8576b"
            ],
            [
             0.6666666666666666,
             "#ed7953"
            ],
            [
             0.7777777777777778,
             "#fb9f3a"
            ],
            [
             0.8888888888888888,
             "#fdca26"
            ],
            [
             1,
             "#f0f921"
            ]
           ]
          },
          "colorway": [
           "#636efa",
           "#EF553B",
           "#00cc96",
           "#ab63fa",
           "#FFA15A",
           "#19d3f3",
           "#FF6692",
           "#B6E880",
           "#FF97FF",
           "#FECB52"
          ],
          "font": {
           "color": "#2a3f5f"
          },
          "geo": {
           "bgcolor": "white",
           "lakecolor": "white",
           "landcolor": "#E5ECF6",
           "showlakes": true,
           "showland": true,
           "subunitcolor": "white"
          },
          "hoverlabel": {
           "align": "left"
          },
          "hovermode": "closest",
          "mapbox": {
           "style": "light"
          },
          "paper_bgcolor": "white",
          "plot_bgcolor": "#E5ECF6",
          "polar": {
           "angularaxis": {
            "gridcolor": "white",
            "linecolor": "white",
            "ticks": ""
           },
           "bgcolor": "#E5ECF6",
           "radialaxis": {
            "gridcolor": "white",
            "linecolor": "white",
            "ticks": ""
           }
          },
          "scene": {
           "xaxis": {
            "backgroundcolor": "#E5ECF6",
            "gridcolor": "white",
            "gridwidth": 2,
            "linecolor": "white",
            "showbackground": true,
            "ticks": "",
            "zerolinecolor": "white"
           },
           "yaxis": {
            "backgroundcolor": "#E5ECF6",
            "gridcolor": "white",
            "gridwidth": 2,
            "linecolor": "white",
            "showbackground": true,
            "ticks": "",
            "zerolinecolor": "white"
           },
           "zaxis": {
            "backgroundcolor": "#E5ECF6",
            "gridcolor": "white",
            "gridwidth": 2,
            "linecolor": "white",
            "showbackground": true,
            "ticks": "",
            "zerolinecolor": "white"
           }
          },
          "shapedefaults": {
           "line": {
            "color": "#2a3f5f"
           }
          },
          "ternary": {
           "aaxis": {
            "gridcolor": "white",
            "linecolor": "white",
            "ticks": ""
           },
           "baxis": {
            "gridcolor": "white",
            "linecolor": "white",
            "ticks": ""
           },
           "bgcolor": "#E5ECF6",
           "caxis": {
            "gridcolor": "white",
            "linecolor": "white",
            "ticks": ""
           }
          },
          "title": {
           "x": 0.05
          },
          "xaxis": {
           "automargin": true,
           "gridcolor": "white",
           "linecolor": "white",
           "ticks": "",
           "title": {
            "standoff": 15
           },
           "zerolinecolor": "white",
           "zerolinewidth": 2
          },
          "yaxis": {
           "automargin": true,
           "gridcolor": "white",
           "linecolor": "white",
           "ticks": "",
           "title": {
            "standoff": 15
           },
           "zerolinecolor": "white",
           "zerolinewidth": 2
          }
         }
        },
        "title": {
         "text": "Корреляция: сумма первой покупки - общее количество покупок"
        },
        "xaxis": {
         "anchor": "y",
         "domain": [
          0,
          1
         ],
         "title": {
          "text": "Сумма первой покупки"
         }
        },
        "yaxis": {
         "anchor": "x",
         "domain": [
          0,
          1
         ],
         "title": {
          "text": "Общее количество покупок"
         }
        }
       }
      },
      "image/png": "[encoded data removed]"
     },
     "metadata": {},
     "output_type": "display_data"
    }
   ],
   "source": [
    "# ГРАФИКИ\n",
    "# График 1: Место - транзакции на клиента (ТОП-10)\n",
    "top_places = place_activity.sort_values('transactions_per_customer', ascending=False).head(10)\n",
    "fig1 = px.bar(x=top_places.index, y=top_places['transactions_per_customer'],\n",
    "              title='ТОП-10: Среднее количество транзакций на клиента по местам',\n",
    "              labels={'x': 'Место покупки', 'y': 'Транзакций на клиента'})\n",
    "fig1.update_xaxes(tickangle=45)\n",
    "fig1.show()\n",
    "\n",
    "# График 2: Сумма первой покупки\n",
    "amount_data = analysis_df.groupby('amount_category')['total_purchases'].mean()\n",
    "fig2 = px.bar(x=amount_data.index, y=amount_data.values,\n",
    "              title='Зависимость от суммы первой покупки',\n",
    "              labels={'x': 'Категория суммы', 'y': 'Среднее количество покупок'})\n",
    "fig2.show()\n",
    "\n",
    "# График 3: Корреляция\n",
    "fig3 = px.scatter(analysis_df, x='first_amount', y='total_purchases',\n",
    "                  title='Корреляция: сумма первой покупки - общее количество покупок',\n",
    "                  labels={'first_amount': 'Сумма первой покупки', 'total_purchases': 'Общее количество покупок'})\n",
    "fig3.show()"
   ]
  }
 ],
 "metadata": {
  "kernelspec": {
   "display_name": "Python 3 (ipykernel)",
   "language": "python",
   "name": "python3"
  },
  "language_info": {
   "codemirror_mode": {
    "name": "ipython",
    "version": 3
   },
   "file_extension": ".py",
   "mimetype": "text/x-python",
   "name": "python",
   "nbconvert_exporter": "python",
   "pygments_lexer": "ipython3",
   "version": "3.13.3"
  }
 },
 "nbformat": 4,
 "nbformat_minor": 5
}
