{
 "cells": [
  {
   "attachments": {},
   "cell_type": "markdown",
   "id": "978d50fe-7b7a-43f4-a551-f0e1c667af85",
   "metadata": {},
   "source": [
    "В таблице приведены покупки держателей карты. Описание параметров приведено на \n",
    "отдельном листе.\n",
    "\n",
    "```\n",
    "tran_dttm -\tдата транзакции\n",
    "tran_amt -\tсумма \n",
    "disbursment_dt - дата открытия счета\n",
    "customer_rk - уникальный id клиента\n",
    "limit -\tкредитный лимит по карте\n",
    "caption - магазин, где была совершена транзакция\n",
    "```\n",
    "\n",
    "\n",
    "```\n",
    "Необходимо:\n",
    "\n",
    "·         определить наличие зависимости поведения клиента от места/суммы первой покупки."
   ]
  },
  {
   "cell_type": "code",
   "execution_count": null,
   "id": "e565fe65-3e63-46b4-8fd9-4b438ee9a9ab",
   "metadata": {},
   "outputs": [],
   "source": []
  }
 ],
 "metadata": {
  "kernelspec": {
   "display_name": "Python 3 (ipykernel)",
   "language": "python",
   "name": "python3"
  },
  "language_info": {
   "codemirror_mode": {
    "name": "ipython",
    "version": 3
   },
   "file_extension": ".py",
   "mimetype": "text/x-python",
   "name": "python",
   "nbconvert_exporter": "python",
   "pygments_lexer": "ipython3",
   "version": "3.13.3"
  }
 },
 "nbformat": 4,
 "nbformat_minor": 5
}
